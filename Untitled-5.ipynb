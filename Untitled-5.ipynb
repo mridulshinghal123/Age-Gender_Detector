{
 "cells": [
  {
   "cell_type": "code",
   "execution_count": 10,
   "metadata": {},
   "outputs": [],
   "source": [
    "#Importing necessary libraries\n",
    "import tkinter as tk\n",
    "from tkinter import filedialog\n",
    "from tkinter import *\n",
    "from PIL import Image,ImageTk\n",
    "import numpy\n",
    "import numpy as np\n",
    "\n",
    "\n",
    "#Loading the model\n",
    "from tensorflow.keras.models import load_model\n",
    "model=load_model('Age_Sex_Detection.h5')\n",
    "\n",
    "#Initializing the gui\n",
    "top=tk.Tk()\n",
    "top.geometry('800x600')\n",
    "top.title('Age & Gender Detector')\n",
    "top.configure(background='#CDCDCD')\n",
    "\n",
    "\n"
   ]
  },
  {
   "cell_type": "code",
   "execution_count": 11,
   "metadata": {},
   "outputs": [
    {
     "name": "stdout",
     "output_type": "stream",
     "text": [
      "(48, 48, 3)\n",
      "1/1 [==============================] - 1s 1s/step\n",
      "Predicted Age is2\n",
      "Predicted Gender isFemale\n",
      "(48, 48, 3)\n",
      "1/1 [==============================] - 0s 352ms/step\n",
      "Predicted Age is28\n",
      "Predicted Gender isFemale\n",
      "(48, 48, 3)\n",
      "1/1 [==============================] - 0s 192ms/step\n",
      "Predicted Age is63\n",
      "Predicted Gender isFemale\n",
      "(48, 48, 3)\n",
      "1/1 [==============================] - 0s 112ms/step\n",
      "Predicted Age is2\n",
      "Predicted Gender isFemale\n",
      "(48, 48, 3)\n",
      "1/1 [==============================] - 0s 152ms/step\n",
      "Predicted Age is33\n",
      "Predicted Gender isFemale\n",
      "(48, 48, 3)\n",
      "1/1 [==============================] - 0s 120ms/step\n",
      "Predicted Age is2\n",
      "Predicted Gender isMale\n"
     ]
    }
   ],
   "source": [
    "#Initialising the labels ( 1 for age and 1  for sex)\n",
    "label1=Label(top,background=\"#CDCDCD\",font=('arial',15,\"bold\"))\n",
    "label2=Label(top,background=\"#CDCDCD\",font=('arial',15,\"bold\"))\n",
    "sign_image=Label(top)\n",
    "\n",
    "\n",
    "def Detect(file_path):\n",
    "    global label_packed\n",
    "    image=Image.open(file_path)\n",
    "    image=image.resize((48,48))\n",
    "    image=numpy.expand_dims(image,axis=0)\n",
    "    image=np.array(image)\n",
    "    image=np.delete(image,0,1)\n",
    "    image=np.resize(image,(48,48,3))\n",
    "    print (image.shape)\n",
    "    sex_f=['Male','Female']\n",
    "    image=np.array([image])/255 \n",
    "    pred=model.predict(image)\n",
    "    age=int(np.round(pred[1][0]))\n",
    "    sex=int(np.round(pred[0][0]))\n",
    "    print(\"Predicted Age is\"+ str(age))\n",
    "    print(\"Predicted Gender is\"+ sex_f[sex])\n",
    "    label1.configure(foreground=\"#011638\",text=age)\n",
    "    label2.configure(foreground=\"#011638\",text=sex_f[sex])\n",
    "\n",
    "def show_Detect_button(file_path):\n",
    "    Detect_b=Button(top,text=\"Detect Image\",command=lambda:Detect(file_path),padx=10,pady=5)\n",
    "    Detect_b.configure(background=\"#364156\",foreground='white',font=('arial',10,'bold'))\n",
    "    Detect_b.place(relx=0.79,rely=0.46)\n",
    "\n",
    "def upload_image():\n",
    "    try:\n",
    "        file_path=filedialog.askopenfilename()\n",
    "        uploaded=Image.open(file_path)\n",
    "        uploaded.thumbnail(((top.winfo_width()/2.25),top.winfo_height()/2.25))\n",
    "        im=ImageTk.PhotoImage(uploaded)\n",
    "        \n",
    "        sign_image.configure(image=im)\n",
    "        sign_image.image=im\n",
    "        label1.configure(text='')\n",
    "        label2.configure(text='')\n",
    "        show_Detect_button(file_path)\n",
    "    except:\n",
    "        print\n",
    "        \n",
    "upload=Button(top,text=\"Upload an Image\",command=upload_image,padx=10,pady=5)\n",
    "upload.configure(background=\"#364156\",foreground='white',font=('arial',10,'bold'))\n",
    "upload.pack(side='bottom',pady=50)\n",
    "sign_image.pack(side='bottom',expand=True)\n",
    "            \n",
    "label1.pack(side=\"bottom\",expand=True)\n",
    "label2.pack(side=\"bottom\",expand=True)\n",
    "heading=Label(top,text=\"Age & Gender Detector\",pady=20,font=('arial',20,'bold'))\n",
    "heading.configure(background=\"#CDCDCD\",foreground=\"#364156\")\n",
    "heading.pack()\n",
    "top.mainloop()"
   ]
  },
  {
   "cell_type": "code",
   "execution_count": null,
   "metadata": {},
   "outputs": [],
   "source": []
  },
  {
   "cell_type": "code",
   "execution_count": null,
   "metadata": {},
   "outputs": [],
   "source": []
  }
 ],
 "metadata": {
  "kernelspec": {
   "display_name": "Python 3.9.12 ('base')",
   "language": "python",
   "name": "python3"
  },
  "language_info": {
   "codemirror_mode": {
    "name": "ipython",
    "version": 3
   },
   "file_extension": ".py",
   "mimetype": "text/x-python",
   "name": "python",
   "nbconvert_exporter": "python",
   "pygments_lexer": "ipython3",
   "version": "3.9.12"
  },
  "orig_nbformat": 4,
  "vscode": {
   "interpreter": {
    "hash": "a71a9e4fb054fff428071484f7faa898cb9ecb31a518fe88e3463da9af879578"
   }
  }
 },
 "nbformat": 4,
 "nbformat_minor": 2
}
